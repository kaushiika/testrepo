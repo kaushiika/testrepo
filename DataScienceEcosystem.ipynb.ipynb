{
 "cells": [
  {
   "cell_type": "markdown",
   "id": "02ff1a84-1a0c-464e-b86b-7f3441ae8cf7",
   "metadata": {},
   "source": [
    "# Data Science Tools and Ecosystem"
   ]
  },
  {
   "cell_type": "markdown",
   "id": "815e8a0f-33d9-43b4-80f8-1f2f227c4834",
   "metadata": {},
   "source": [
    "In this notebook, Data Science Tools and Ecosystem are summarized."
   ]
  },
  {
   "cell_type": "markdown",
   "id": "40dad6cd-64f4-4e4e-94ea-b1fbd17bfcb8",
   "metadata": {},
   "source": [
    "Some of the popular languages that Data Scientists use are:\n",
    "1. Python\n",
    "2. Java\n",
    "3. C"
   ]
  },
  {
   "cell_type": "markdown",
   "id": "2eb6029e-84e2-4e96-8108-e9aca9f16c3a",
   "metadata": {},
   "source": [
    "Some of the commonly used libraries used by Data Scientists include:\n",
    "1. TensorFlow\n",
    "2. NumPy\n",
    "3. SciPy"
   ]
  },
  {
   "cell_type": "markdown",
   "id": "d7931af3-1e30-4280-976f-25bc19ff3201",
   "metadata": {
    "tags": []
   },
   "source": [
    "|Data Science Tools|     \n",
    "|-------------------|\n",
    "|TensorFlow|\n",
    "|Apache Spark|\n",
    "|Weka|"
   ]
  },
  {
   "cell_type": "markdown",
   "id": "6e886272-85ce-4256-a654-931609f9c33d",
   "metadata": {},
   "source": [
    "### Below are a few examples of evaluating arithmetic expressions in Python.\n"
   ]
  },
  {
   "cell_type": "code",
   "execution_count": 9,
   "id": "3b315016-39aa-4704-ab60-7dc8b137279f",
   "metadata": {
    "tags": []
   },
   "outputs": [
    {
     "data": {
      "text/plain": [
       "17"
      ]
     },
     "execution_count": 9,
     "metadata": {},
     "output_type": "execute_result"
    }
   ],
   "source": [
    "# This a simple arithmetic expression to mutiply then add integers\n",
    "(3*4)+5\n"
   ]
  },
  {
   "cell_type": "code",
   "execution_count": 10,
   "id": "3b21790c-5770-4c34-8ebf-ed59a9e936f7",
   "metadata": {
    "tags": []
   },
   "outputs": [
    {
     "data": {
      "text/plain": [
       "3.3333333333333335"
      ]
     },
     "execution_count": 10,
     "metadata": {},
     "output_type": "execute_result"
    }
   ],
   "source": [
    "# This will convert 200 minutes to hours by diving by 60\n",
    "h = 200/60\n",
    "h"
   ]
  },
  {
   "cell_type": "markdown",
   "id": "9fe144e0-683f-4b27-86a4-eb68255792a1",
   "metadata": {},
   "source": [
    "## *Objectives:*\n",
    "* List popular languages for Data Science\n",
    "* List commonly used libraries used by Data Scientists\n",
    "* List popular tools for Data Scienc\n"
   ]
  },
  {
   "cell_type": "code",
   "execution_count": null,
   "id": "15282193-bd9e-486f-a472-e38678f6e898",
   "metadata": {},
   "outputs": [],
   "source": []
  }
 ],
 "metadata": {
  "kernelspec": {
   "display_name": "Python",
   "language": "python",
   "name": "conda-env-python-py"
  },
  "language_info": {
   "codemirror_mode": {
    "name": "ipython",
    "version": 3
   },
   "file_extension": ".py",
   "mimetype": "text/x-python",
   "name": "python",
   "nbconvert_exporter": "python",
   "pygments_lexer": "ipython3",
   "version": "3.7.12"
  }
 },
 "nbformat": 4,
 "nbformat_minor": 5
}
